{
 "cells": [
  {
   "cell_type": "code",
   "execution_count": null,
   "id": "5959a9d8",
   "metadata": {},
   "outputs": [],
   "source": [
    "#Questão 2️⃣6\n",
    "#Crie um conjunto com 5 números inteiros e imprima-o.\n",
    "conjuntos = {1, 2, 3, 4, 5, 6, 7,}\n",
    "print(conjuntos)\n",
    "#aqui eu criei um conjunto com 7 elementos do tipo inteiro."
   ]
  },
  {
   "cell_type": "code",
   "execution_count": null,
   "id": "f29d95a2",
   "metadata": {},
   "outputs": [],
   "source": [
    "#Questão 2️⃣7\n",
    "#Adicione os elementos 10, 20, 30 a um conjunto e imprima o resultado.\n",
    "conjuntos.add(10)\n",
    "conjuntos.add(20)\n",
    "conjuntos.add(30)\n",
    "print(conjuntos)\n",
    "#aqui eu criei um conjunto através do método .add() que é pertencente a classe set e adicionei os elementos 10, 20, 30.  "
   ]
  },
  {
   "cell_type": "code",
   "execution_count": null,
   "id": "91906c94",
   "metadata": {},
   "outputs": [],
   "source": [
    "#Questão 2️⃣8\n",
    "#Remova um elemento específico de um conjunto\n",
    "conjuntos.discard(6)\n",
    "conjuntos.remove(4)\n",
    "conjuntos.discard(6)\n",
    "conjuntos.remove(4)\n",
    "print(conjuntos)\n",
    "# aqui eu removi atraves de dois metodos pertencentes a classe set, o .discard() e .remove(). e quando eu removi novamente com o método.remove(4) ele me gerou um erro : KeyError:, mas foi o keyError porque o keyError é um erro que ocorre por serem hashes, e são tratados como chaves seus elementos.\n"
   ]
  },
  {
   "cell_type": "code",
   "execution_count": null,
   "id": "27b403b2",
   "metadata": {},
   "outputs": [],
   "source": [
    "#Questão 2️⃣9\n",
    "#Crie um conjunto vazio e adicione elementos dinamicamente com input().\n",
    "dados = set()\n",
    "dados = input(f\"Adicione 5 elementos separados por virgula\").strip().lower().split(\", \")#► aqui eu crio uma variael que vai receber um dado do input sendo este dado já modificado em tempo de atribuição, onde ele será convertido para minuscula e retirado os espaços em branco., pois o .strip() um método que remove espaços em branco do inicio e fim de uma string e o lower() converte a string para minuscula. depois, se houvesse duplicats, a conversão de tudo isto em set(), já me precavia isto. no primeiro output veio em forma de lista, pois o .split() separa a string digitada pelo usuario em uma lista de substrings, onde o separador é a virgula e o espaço, operação feita pelo método .spli(\", \") \n",
    "\n",
    "dados = set()\n",
    "dados = set(input(f\"Adicione 5 elementos separados por virgula\\n\").strip().lower().split(\", \"))\n",
    "print(f\" Os elementos que estão na variavel dados são: {dados}\") \n",
    "# abaixo o output:\n",
    "# Adicione 5 elementos separados por virgula\n",
    "# 1, 2, 3, 4, 5\n",
    "#  Os elementos que estão na variavel dados são: ['1', '2', '3', '4', '5']\n",
    "# PS C:\\Users\\Pichau\\OneDrive\\Área de Trabalho\\estudo_conjuntos> & C:/Users/Pichau/AppData/Local/Programs/Python/Python313/python.exe \"c:/Users/Pichau/OneDrive/Área de Trabalho/estudo_conjuntos/conjuntos.py\"\n",
    "# Adicione 5 elementos separados por virgula\n",
    "# 1, 2, 32, 5, 32, 2, 2, 4, 5, 1\n",
    "#  Os elementos que estão na variavel dados são: {'4', '5', '1', '2', '32'}\n",
    "# PS C:\\Users\\Pichau\\OneDrive\\Área de Trabalho\\estudo_conjuntos> "
   ]
  },
  {
   "cell_type": "code",
   "execution_count": null,
   "id": "50210829",
   "metadata": {},
   "outputs": [],
   "source": [
    "#Questão 3️⃣0\n",
    "#Faça um programa que converta uma lista com números repetidos em um conjunto, eliminando duplicatas.\n",
    "#Questão 3️⃣1\n",
    "#Peça ao usuário para digitar 5 nomes e os armazene em um conjunto sem duplicação.\n",
    "\n",
    "#► vc me ajudou a concluir e colocar lógica nestes algoritmos abaixo:\n",
    "\n",
    "def visualizar_conjunto(lista):\n",
    "    '''Essa função tem por objetivo visualizar o elementos.'''\n",
    "\n",
    "    print(f\"\\nOs elementos que vc inseriu são:\\n{lista}\")\n",
    "def visualizar_sem_duplicats(lista):\n",
    "    '''Essa função recebe uma lista e a converte em set para remoção de duplicatas. '''\n",
    "    sem_duplicatas = list(set(lista))\n",
    "    sem_duplicatas.sort()\n",
    "    print(f\"Agora sua lista esta sem duplicatas:\\n{sem_duplicatas}\")\n",
    "    return sem_duplicatas\n",
    "def inserção_de_dados(lista):\n",
    "    '''Essa função vai ser de incremento a lista.'''\n",
    "    novos_dados = input(f\"\\nQuais elementos vc quer inserir? (separados por vírgula)\\n\").strip().lower().split(\", \")\n",
    "    lista.extend(novos_dados)\n",
    "    \n",
    "    print(f\"\\nA lista está assim atualmente:\\n{lista}\")\n",
    "    return lista.sort()\n",
    "def programinha_sem_duplicatas():\n",
    "    '''aqui eu crio uma função que vai gerar um loop  para que o usuario tenha ciencia de que enquanto ele não confirmar com sair, o loop de inserção vai continuar e adicionr elementos, mas a convesão em set() vai eliminar todas duplicatas. '''\n",
    "    lista = []\n",
    "    while True:\n",
    "        try:\n",
    "            print(\"\\n🔥 Escolha uma opção abaixo:\")\n",
    "            print(\"0) Inserir elementos.\")\n",
    "            print(\"1) Visualizar todas as inserções.\")\n",
    "            print(\"2) Visualizar lista sem duplicatas.\")\n",
    "            print(\"3) Encerrar operação.\")\n",
    "\n",
    "            dados = input(f\"Digite a opção desejada:\\n\\U0001f525 \").strip()\n",
    "                       \n",
    "            if not dados:\n",
    "                raise ValueError(f\"\\U000026a0 Você não digitou nada.\")\n",
    "\n",
    "            elif not dados.isdigit():\n",
    "                raise ValueError(f\"\\U000026a0 Digite apenas os números descritos na opção da mensagem principal\")\n",
    "            \n",
    "            dados = int(dados)\n",
    "\n",
    "            if dados < 0 and dados > 3:\n",
    "                raise ValueError(f\"\\U0000274c Opção inválida. Escolha as opções descritas na mensagem principal.\")\n",
    "        \n",
    "            elif dados == 3:\n",
    "                print(f\"\\n\\U0001f44b Até mais.\")\n",
    "                break\n",
    "\n",
    "            elif dados == 0:\n",
    "                inserção_de_dados(lista)\n",
    "\n",
    "            elif dados == 1:\n",
    "                visualizar_conjunto(lista)\n",
    "\n",
    "            elif dados == 2:\n",
    "                visualizar_sem_duplicats(lista)\n",
    "            \n",
    "            else:\n",
    "                raise ValueError(f\"|U000026a0 Digite um aopção entre 0 e 3\")\n",
    "\n",
    "        except ValueError as v:\n",
    "            print(f\"\\U0000274c Erro: {v}\")\n",
    "        else:\n",
    "            print(f\"A operação funcionou.\")\n",
    "        finally:\n",
    "            print(f\"\\U0001f44b Encerrando operação...\")\n",
    "programinha_sem_duplicatas()"
   ]
  },
  {
   "cell_type": "code",
   "execution_count": null,
   "id": "c7105a3c",
   "metadata": {},
   "outputs": [],
   "source": [
    "# Questão 3️⃣2\n",
    "# Verifique se um número específico está presente em um conjunto\n",
    "\n",
    "conjunto = {1, 2, 3, 4, 5}\n",
    "print(f\"O numero 3 está no conjunto:{conjunto}?\\n{3 in conjunto}\\n\")\n",
    "print(f\"O numero 2 está no conjunto:{conjunto}?\\n{2 in conjunto}\\n\")\n",
    "print(f\"O numero 100 está no conjunto:{conjunto}?\\n{100 in conjunto}\\n\")\n",
    "print(f\"O numero 1 está no conjunto:{conjunto}?\\n{1 in conjunto}\\n\")\n",
    "print(f\"O numero 5 está no conjunto:{conjunto}?\\n{5 in conjunto}\\n\")\n",
    "print(f\"O numero 200 está no conjunto:{conjunto}?\\n{200 in conjunto}\\n\")\n",
    "print(f\"O numero 5000 está no conjunto:{conjunto}?\\n{5000 in conjunto}\\n\")"
   ]
  },
  {
   "cell_type": "code",
   "execution_count": null,
   "id": "c5141fa1",
   "metadata": {},
   "outputs": [],
   "source": [
    "#Questão 3️⃣3\n",
    "#Crie um conjunto com números de 1 a 10 e remova números ímpares dele.\n",
    "\n",
    "conjuntos = {1, 2, 3, 4, 5, 6, 7, 8, 9, 10}\n",
    "\n",
    "for i in conjuntos:\n",
    "    if i in conjuntos.copy() % 2 == 0:\n",
    "        print(f\"Os numeros divisíveis por 2 são pares.\")\n",
    "    else:\n",
    "        print(f\"Os numeros não são divisíveis por 2, e por isso são ímpares.\")\n",
    "else:\n",
    "    print(f\"Tornando conjuntos novamente em tipo set.\\n{set(conjuntos)}\")"
   ]
  },
  {
   "cell_type": "code",
   "execution_count": null,
   "id": "cf92d7da",
   "metadata": {},
   "outputs": [],
   "source": [
    "#Questão 3️⃣4\n",
    "#Gere um conjunto com os primeiros 20 números primos e exiba-os\n",
    "\n",
    "def eh_primo(num):\n",
    "    '''aqui eu crio uma função que vai me gerar os primeiros 20 numeros primos'''\n",
    "    lista = [x for x in range(2, 20) if (x % 1 and x % x == x or x == 1)] \n",
    "    print(f\"Estes numeros são primos:\\n{lista}\")\n",
    "    return lista\n",
    "conjunto = range(2, 20)\n",
    "print(conjunto)\n"
   ]
  },
  {
   "cell_type": "code",
   "execution_count": null,
   "id": "6abdc1ff",
   "metadata": {},
   "outputs": [],
   "source": [
    "#Questão 3️⃣5\n",
    "#Peça ao usuário para inserir 10 palavras e exiba apenas as únicas (sem repetição).\n",
    "\n",
    "palavras = input(f\"Digite 10 palavras\").lower().split(\", \", \",\").strip()\n",
    "print(f\"{set(palavras)}\")\n",
    "\n",
    "palavras = input(f\"Digite 10 palavras:\\n\\U0001f525 \").strip().lower().split(\", \")\n",
    "print(f\"{set(palavras)}\")\n",
    "# #PS C:\\Users\\Pichau\\OneDrive\\Área de Trabalho\\estudo_conjuntos> & C:/Users/Pichau/AppData/Local/Programs/Python/Python313/python.exe \"c:/Users/Pichau/OneDrive/Área de Trabalho/estudo_conjuntos/conjuntos.py\"\n",
    "# Digite 10 palavras:\n",
    "# 🔥  café, café, pão, pão, chá, chá, leite, leite, bolacha, bolacha, café, café, pão, pão, chá, chá, leite, leite, bolacha, bolacha\n",
    "# {'café', 'chá', 'pão', 'leite', 'bolacha'}\n",
    "# PS C:\\Users\\Pichau\\OneDrive\\Área de Trabalho\\estudo_conjuntos> "
   ]
  },
  {
   "cell_type": "code",
   "execution_count": null,
   "id": "ad80639f",
   "metadata": {},
   "outputs": [],
   "source": [
    "# Questão 3️⃣6\n",
    "# Crie dois conjuntos e exiba sua união (union())\n",
    "set = {1, 2, 3, 4, 5, 6, 7, 8, 9}\n",
    "set2 = {6, 7, 8, 9, 10}\n",
    "print(f\"\\n\\U0001f525 A união dos conjuntos é:\\n{set.union(set2)}\")\n",
    "#aqui ele uniu os conjuntos, mas 'não' repetiu seus elementos."
   ]
  },
  {
   "cell_type": "code",
   "execution_count": null,
   "id": "6ca570c1",
   "metadata": {},
   "outputs": [],
   "source": [
    "# Questão 3️⃣7\n",
    "# Crie dois conjuntos e exiba sua interseção (intersection()).\n",
    "set = {1, 2, 3, 4, 5, 6, 7, 8, 9}\n",
    "set2 = {6, 7, 8, 9, 10}\n",
    "print(f\"\\n\\U0001f525 A interseção, ou melhor, os elementos em \\\"comum\\\" dos conjuntos são:\\n{set.intersection(set2)}\")"
   ]
  },
  {
   "cell_type": "code",
   "execution_count": 1,
   "id": "326a010b",
   "metadata": {},
   "outputs": [
    {
     "name": "stdout",
     "output_type": "stream",
     "text": [
      "\n",
      "🔥 Os elementos que estão no set e \"não\" no set2 são:\n",
      "{1, 2, 3, 4, 5}\n"
     ]
    }
   ],
   "source": [
    "# Questão 3️⃣8\n",
    "# Crie dois conjuntos e exiba a diferença (difference()) entre eles\n",
    "set = {1, 2, 3, 4, 5, 6, 7, 8, 9}\n",
    "set2 = {6, 7, 8, 9, 10}\n",
    "print(f\"\\n\\U0001f525 Os elementos que estão no set e \\\"não\\\" no set2 são:\\n{set.difference(set2)}\")"
   ]
  },
  {
   "cell_type": "code",
   "execution_count": null,
   "id": "34fb014c",
   "metadata": {},
   "outputs": [],
   "source": [
    "# Questão 3️⃣9\n",
    "# Verifique se um conjunto é um subconjunto de outro (issubset())\n",
    "set = {1, 2, 3, 4, 5, 6, 7, 8, 9}\n",
    "set2 = {6, 7, 8, 9, 10}\n",
    "\n",
    "print(f\"\\U0001f525 O set é um subconjunto de set2?\\n{set.issubset(set2)}\")\n",
    "#isto me retornará false, pois o set que chama a função .issubset() esta querendo somente saber \"se\" seus elementos são \"pertencentes\" ao set2, que foi passado como argumento."
   ]
  },
  {
   "cell_type": "code",
   "execution_count": null,
   "id": "bbe323c7",
   "metadata": {},
   "outputs": [],
   "source": [
    "# Questão 4️⃣0\n",
    "# Verifique se um conjunto é um superconjunto de outro (issuperset()).\n",
    "set = {6, 7, 8, 9, 10}\n",
    "set2 = {6, 7, 8, 9, 10}\n",
    "\n",
    "print(f\"O set é um superconjunto se set2?\\n{set.issuperset(set2)}\")\n",
    "#►  o set que chama a função .issuperset() esta querendo somente saber \"se\" seus elementos são \"pertencentes\" ao set2, que foi passado como argumento. esta foi a resposta que vc me gerou.\n",
    "\n",
    "#Então, quando eu chamo o método .issupersdet() o set que o chama \"quer saber se\" seus elementos \"são pertencentes ao conjunto passado como argumento\"?\"\n"
   ]
  },
  {
   "cell_type": "code",
   "execution_count": null,
   "id": "8b33169b",
   "metadata": {},
   "outputs": [],
   "source": [
    "# Questão 4️⃣1\n",
    "# Faça um código que compare dois conjuntos e determine se eles são disjuntos (isdisjoint()).\n",
    "set = {6, 7, 8, 9, 10}\n",
    "set2 = {6, 7, 8, 9, 10}\n",
    "set3 = {11, 12, 13, 14, 15}\n",
    "set4 = {20, 21, 22, 6, 7}\n",
    "# Aqui eu vou olicitar um retorno booleano, onde o .isdisjoin() vai me retornar true se forem distintos em totalidade de elementos, ou seja, se forem 'todos' diferentes retornará true, se um set contiver ao menos um elemento igual vai retornar false, porque nãosão disjuntos \n",
    "print(f\"\\U0001f525 Os sets são disjuntos?\\n{set.isdisjoint(set2)}\")#►true \n",
    "print(f\"\\U0001f525 Os sets são disjuntos?\\n{set.isdisjoint(set3)}\")#► true, por\n",
    "print(f\"\\U0001f525 Os sets são disjuntos?\\n{set.isdisjoint(set4)}\")#►false, por q\n",
    "print(f\"\\U0001f525 Os sets são disjuntos?\\n{set4.isdisjoint(set)}\")#►false, por que um de seus elementos também é igual a um dos elementos do set. Então, se um dos elementos for igual, o set não é disjunto."
   ]
  },
  {
   "cell_type": "code",
   "execution_count": null,
   "id": "b6a71ff8",
   "metadata": {},
   "outputs": [],
   "source": [
    "# Questão 4️⃣2\n",
    "# Crie três conjuntos aleatórios e exiba suas combinações (utilizando union, intersection e difference)\n",
    "set2 = {6, 7, 8, 9, 10}\n",
    "set3 = {11, 12, 13, 14, 15, 6, 7, 8}\n",
    "set4 = {20, 21, 22, 6, 7}\n",
    "\n",
    "print(f\"\\n\\U0001f525 A união dos conjuntos é:\\n{set3.union(set2)}\")\n",
    "print(f\"\\n\\U0001f525 A união dos conjuntos é:\\n{set4.union(set3)}\")\n",
    "print(f\"\\n\\U0001f525 A união dos conjuntos é:\\n{set2.union(set3)}\")\n",
    "print(f\"\\n\\U0001f525 Os elementos em comum são:\\n{set3.intersection(set2)}\")#► {6, 7, 8}\n",
    "print(f\"\\n\\U0001f525 Os elementos em comum são:\\n{set2.intersection(set3)}\")#► {6, 7, 8}\n",
    "print(f\"\\n\\U0001f525 A diferença entre o set2 e set3 são:\\n{set2.difference(set3)}\")#►{9, 10  }\n",
    "print(f\"\\n\\U0001f525 A diferença entre o set3 e set4 são:\\n{set3.difference(set4)}\")#►{11, 12, 13, 14, 15, 8}"
   ]
  },
  {
   "cell_type": "code",
   "execution_count": null,
   "id": "720eb17e",
   "metadata": {},
   "outputs": [],
   "source": [
    "# Questão 4️⃣3\n",
    "# Faça uma função que recebe dois conjuntos e retorna os elementos únicos presentes em ambos.\n",
    "\n",
    "def elementos_unicos(set1, set2):\n",
    "    '''essa função vai comparar dois sets passado como parametros reais  e vai retornar somente os elementos unicos presentes em ambos.'''\n",
    "    elementos_unicos = set1.intersection(set2)\n",
    "    return elementos_unicos\n",
    "set = {1, 2, 3, 4, 5, 7, 8, 9}\n",
    "set0 = {2, 4, 7, 8, 9}\n",
    "\n",
    "print(f\"Os elementos em comum são:\\n{elementos_unicos(set, set0)}\")"
   ]
  },
  {
   "cell_type": "code",
   "execution_count": null,
   "id": "bdd04d39",
   "metadata": {},
   "outputs": [],
   "source": [
    "# Questão 4️⃣5\n",
    "# Crie um conjunto e utilize len() para verificar quantos elementos ele possui.\n",
    "\n",
    "set00 = {1, 2, 3, 4, 5, 7, 8, 9}\n",
    "print(f\"\\U0001f525 O conjunto possui {len(set00)} elementos.\")\n",
    "\n",
    "# Questão 4️⃣6\n",
    "# Peça ao usuário para digitar 5 números e verifique quais já estão no conjunto.\n",
    "\n",
    "set00 = {1, 2, 3, 4, 5, 7, 8, 9}\n",
    "#print(f\"\\U0001f525 O conjunto possui {len(set00)} elementos.\")\n",
    "\n",
    "# Questão 4️⃣6\n",
    "# Peça ao usuário para digitar 5 números e verifique quais já estão no conjunto.\n",
    "\n",
    "nume = input(f\"Digite cinco numeros:\\n\\U0001f525 \").strip().split(\", \")\n",
    "print(\"\\n\", nume)\n",
    "num = set(nume)\n",
    "for numero in set00:\n",
    "    if num in set00:\n",
    "        print(f\"\\nO número {num} já está no conjunto {set00}.\")\n",
    "    else:\n",
    "        print(f\"\\nO numero {nume} não está no conjunto {set00}\")\n",
    "\n",
    "# o output não esta correto:\n",
    "# Digite cinco numeros:\n",
    "# 🔥 1, 2, 3, 4, 5, 6, 7, 8, 9\n",
    "#  ['1', '2', '3', '4', '5', '6', '7', '8', '9']\n",
    "# O numero ['1', '2', '3', '4', '5', '6', '7', '8', '9'] não está no conjunto {1, 2, 3, 4, 5, 7, 8, 9}\n",
    "# O numero ['1', '2', '3', '4', '5', '6', '7', '8', '9'] não está no conjunto {1, 2, 3, 4, 5, 7, 8, 9}\n",
    "# O numero ['1', '2', '3', '4', '5', '6', '7', '8', '9'] não está no conjunto {1, 2, 3, 4, 5, 7, 8, 9}\n",
    "# O numero ['1', '2', '3', '4', '5', '6', '7', '8', '9'] não está no conjunto {1, 2, 3, 4, 5, 7, 8, 9}\n",
    "# O numero ['1', '2', '3', '4', '5', '6', '7', '8', '9'] não está no conjunto {1, 2, 3, 4, 5, 7, 8, 9}\n",
    "# O numero ['1', '2', '3', '4', '5', '6', '7', '8', '9'] não está no conjunto {1, 2, 3, 4, 5, 7, 8, 9}\n",
    "# O numero ['1', '2', '3', '4', '5', '6', '7', '8', '9'] não está no conjunto {1, 2, 3, 4, 5, 7, 8, 9}\n",
    "# O numero ['1', '2', '3', '4', '5', '6', '7', '8', '9'] não está no conjunto {1, 2, 3, 4, 5, 7, 8, 9}"
   ]
  },
  {
   "cell_type": "code",
   "execution_count": null,
   "id": "0c12e6d7",
   "metadata": {},
   "outputs": [],
   "source": [
    "# Questão 4️⃣7\n",
    "# Faça um algoritmo que verifica se um conjunto é igual a outro\n",
    "\n",
    "set001 = {1, 2, 3, 4, 5, 7, 8, 9}\n",
    "set002 = {1, 2, 3, 4, 5, 7, 8, 9}\n",
    "\n",
    "if set001 == set002:\n",
    "    print(f\"\\U0001f525 Os conjuntos são iguais.\")\n",
    "else:\n",
    "    print(f\"Os conjuntos são diferentes.\")"
   ]
  },
  {
   "cell_type": "code",
   "execution_count": null,
   "id": "1b4ded08",
   "metadata": {},
   "outputs": [],
   "source": [
    "# Questão 4️⃣8\n",
    "# Crie um sistema de cadastro de produtos onde cada item seja armazenado em um set.\n",
    "\n",
    "produtos = set()\n",
    "print(f\"\\U0001f525 Seus produtos são:\\n{produtos}\\n\")\n",
    "produtos = input(f\"Quais produtos vc quer adicionar ao seu conjunto?Ou digite 'sair' para encerrar.\\n\\U0001f525 \").strip().split()\n",
    "print(f\"\\U0001f525 Seus produtos são:\\n{produtos}\\n\")\n",
    "prod_sem_duplicats = set(produtos)\n",
    "print(f\"\\U0001f525 Seus produtos sem duplicatas são:\\n{prod_sem_duplicats}\")    "
   ]
  },
  {
   "cell_type": "code",
   "execution_count": null,
   "id": "5f1c47a1",
   "metadata": {},
   "outputs": [],
   "source": [
    "# Questão 4️⃣9\n",
    "# Desenvolva um programa que simule uma agenda de nomes, garantindo que não haja duplicatas.\n",
    "\n",
    "agenda = [\"Ana\", \"Ana\", \"Veronica\", \"Veronica\", \"Carla\", \"Carla\", \"Carol\", \"Carol\", \"Marcia\", \"Marcia\", \"Marcio\", \"Marcio\", \"Marcio\"]\n",
    "nomes_vazios = set()\n",
    "for nome in agenda:\n",
    "    if nome in agenda:\n",
    "        print(f\"\\U0001f525 O nome {nome} já está na agenda.\")\n",
    "    else:\n",
    "        print(f\"\\U0001f525 O nome {nome} não está na agenda.\")\n",
    "        nomes_vazios.add(nome)\n",
    "nova_agenda = set(agenda)\n",
    "print(f\"\\U0001f525 A nova agenda é:\\n{nova_agenda}\")"
   ]
  },
  {
   "cell_type": "code",
   "execution_count": null,
   "id": "27e627c6",
   "metadata": {},
   "outputs": [],
   "source": [
    "# Questão 5️⃣0\n",
    "# Crie um sistema que registre números de CPF impedindo inserções duplicadas.\n",
    "\n",
    "cpf = set()\n",
    "cpf = input(f\"Qual o número de seu cpf?\\n\\U0001f525 \").strip().split(\", \")\n",
    "print(f\"\\U0001f525  Seu cpf é: {cpf}\")\n",
    "#Output:\n",
    "# Qual o número de seu cpf?\n",
    "# 🔥 3...-67'\n",
    "# 🔥  Seu cpf é: ['3...-67']"
   ]
  },
  {
   "cell_type": "code",
   "execution_count": null,
   "id": "5cf89aa0",
   "metadata": {},
   "outputs": [],
   "source": [
    "# Questão 5️⃣1\n",
    "# Desenvolva um jogo simples que verifique se uma palavra já foi mencionada pelo usuário.\n",
    "\n",
    "\n",
    "\n",
    "palavras = input(f\"Qauis palavras vc quer adiconar ao jogo de captação de duplicatas:\\n\\U0001f525 \").strip().lower().split(\", \")#atribuiçção a lista recem criado vindo do input().strp() que remove espaços em branco, .lower() que conerte tudo emmiusculas .split(\", \") que me separa a string em sub-string em formato de lista.\n",
    "print(f\"As palavras que você escolheu para o joguinho de captação de duplicats foram:\\n{palavras}\")\n",
    "joguinho = set() # conjunto vazio para armazenar as entradas do usuario\n",
    "print(joguinho)\n",
    "\n",
    "for palavr in palavras:\n",
    "    if palavr in joguinho:\n",
    "        print(f\"\\n\\U0001f525 Joguinho perdeu, pois esta palavra \\\"{palavr}\\\" é única!\\nEntão você ganhou meu, amigo!\\n\")\n",
    "    else:\n",
    "        print(f\"\\n\\U0001f525 Joguinho ganhou! Pois esta palavra {palavr} é nova.\\n\")\n",
    "        joguinho.add(palavr)\n",
    "\n",
    "print(f\"As palavras que o joguinho captou foram:\\n{joguinho}\\n\")\n",
    "palavras_duplicatas = joguinho\n",
    "\n",
    "palavras_distintas = set(palavras)\n",
    "print(f\"\\U0001f525 As palavras que fez vc perder o joguinho foram:\\n{palavras_duplicatas}\\n\")\n",
    "\n",
    "print(f\"\\U0001f525 As palavras que fez vc ganhar o joguinho foram:\\n{palavras_distintas.difference(palavras_duplicatas)}\\n\")\n",
    "\n",
    "print(f\"\\U0001f525 Quais foram as palavras que vc escolheu que te levaram ao impasse da temporaria derrota:\\n{palavras_distintas.intersection(palavras_duplicatas)}\\n\")\n",
    "\n",
    "print(f\"\\U0001f525 As palavras que vc escolheu e o joguinho também são:\\n{palavras_distintas.symmetric_difference(palavras_duplicatas)}\\n\")"
   ]
  },
  {
   "cell_type": "code",
   "execution_count": null,
   "id": "b5547823",
   "metadata": {},
   "outputs": [],
   "source": [
    "# Questão 5️⃣2\n",
    "# Simule um sistema de votação que permita a cada pessoa votar apenas uma vez.\n",
    "\n",
    "while True:\n",
    "    try:\n",
    "        cand = set()\n",
    "        cand2 = set()\n",
    "        usuario = input(f\"Em quem vc quer votar? Se for no cand digite '1', se for na cand2 digite '2' ou 'sair' para encerrar\")\n",
    "\n",
    "        if usuario == 'sair':\n",
    "            print(f\"\\U0001f44b Você optou por finalizara votação\")\n",
    "            break\n",
    "\n",
    "        elif not in usuario:\n",
    "            raise ValueError(f\"\\n\\U0000274c Digite em quem vc quer votar ('1' para cand e '2' para cand2, ou 'sair para encerrar)\")\n",
    "        \n",
    "        opções = int(usuario)\n",
    "\n",
    "        if not opções.isdigit():\n",
    "            raise TypeError(f\"\\n\\U0000274c Você digitou a informação errada. ('1' para cand e '2' para cand2, ou 'sair para encerrar)\")\n",
    "\n",
    "        elif usuario == 1:\n",
    "            for "
   ]
  },
  {
   "cell_type": "code",
   "execution_count": 4,
   "id": "e96fd714",
   "metadata": {},
   "outputs": [
    {
     "name": "stdout",
     "output_type": "stream",
     "text": [
      "{4, 5}\n"
     ]
    }
   ],
   "source": [
    "# Questão 5️⃣3\n",
    "# Crie um programa que compare duas listas e exiba apenas os elementos em comum.\n",
    "\n",
    "lista = [1, 2, 3, 4, 5]\n",
    "lista2 = [4, 5, 6, 7, 8]\n",
    "\n",
    "lista_comum = set(lista).intersection(set(lista2))\n",
    "print(lista_comum)"
   ]
  }
 ],
 "metadata": {
  "kernelspec": {
   "display_name": "Python 3",
   "language": "python",
   "name": "python3"
  },
  "language_info": {
   "codemirror_mode": {
    "name": "ipython",
    "version": 3
   },
   "file_extension": ".py",
   "mimetype": "text/x-python",
   "name": "python",
   "nbconvert_exporter": "python",
   "pygments_lexer": "ipython3",
   "version": "3.13.2"
  }
 },
 "nbformat": 4,
 "nbformat_minor": 5
}
